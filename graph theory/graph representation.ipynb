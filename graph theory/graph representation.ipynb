{
 "cells": [
  {
   "cell_type": "markdown",
   "metadata": {},
   "source": [
    "## Given a graph's adjancy list, create its adjancy matrix"
   ]
  },
  {
   "cell_type": "code",
   "execution_count": 1,
   "metadata": {},
   "outputs": [],
   "source": [
    "import numpy as np\n",
    "from typing import Any, Dict, List\n",
    "\n",
    "Graph = Dict[int, List[Any]]\n",
    "\n",
    "\n",
    "def create_adjancy_matrix(graph: Graph):\n",
    "    num_nodes = len(graph.keys())\n",
    "    matrix = np.zeros((num_nodes, num_nodes), dtype=np.int32)\n",
    "\n",
    "    for node in graph.keys():\n",
    "        neighbors = graph[node]\n",
    "        for neighbor in neighbors:\n",
    "            matrix[node, neighbor] = 1\n",
    "\n",
    "    return matrix"
   ]
  },
  {
   "cell_type": "code",
   "execution_count": 2,
   "metadata": {},
   "outputs": [],
   "source": [
    "# Create a graph\n",
    "_graph: Graph = {\n",
    "    0: [1, 2],\n",
    "    1: [2],\n",
    "    2: [3],\n",
    "    3: [1, 2],\n",
    "    4: [5],\n",
    "    5: [4],\n",
    "}"
   ]
  },
  {
   "cell_type": "code",
   "execution_count": 5,
   "metadata": {},
   "outputs": [
    {
     "data": {
      "text/plain": [
       "array([[0, 1, 1, 0, 0, 0],\n",
       "       [0, 0, 1, 0, 0, 0],\n",
       "       [0, 0, 0, 1, 0, 0],\n",
       "       [0, 1, 1, 0, 0, 0],\n",
       "       [0, 0, 0, 0, 0, 1],\n",
       "       [0, 0, 0, 0, 1, 0]])"
      ]
     },
     "execution_count": 5,
     "metadata": {},
     "output_type": "execute_result"
    }
   ],
   "source": [
    "matrix = create_adjancy_matrix(_graph)\n",
    "matrix"
   ]
  },
  {
   "cell_type": "markdown",
   "metadata": {},
   "source": [
    "## Given a graph's adjancy matrix, create its adjancy list"
   ]
  },
  {
   "cell_type": "code",
   "execution_count": 4,
   "metadata": {},
   "outputs": [],
   "source": [
    "def create_adjancy_list(g: np.ndarray):\n",
    "    assert g.shape[0] == g.shape[1]\n",
    "    assert g.ndim == 2\n",
    "\n",
    "    adjancy_list: Graph = {}\n",
    "    for node in range(g.shape[0]):\n",
    "        neighbors = []\n",
    "        for neighbor in range(g.shape[1]):\n",
    "            if g[node, neighbor] == 1:\n",
    "                neighbors.append(neighbor)\n",
    "\n",
    "        adjancy_list[node] = neighbors\n",
    "\n",
    "    return adjancy_list"
   ]
  },
  {
   "cell_type": "code",
   "execution_count": 6,
   "metadata": {},
   "outputs": [
    {
     "data": {
      "text/plain": [
       "{0: [1, 2], 1: [2], 2: [3], 3: [1, 2], 4: [5], 5: [4]}"
      ]
     },
     "execution_count": 6,
     "metadata": {},
     "output_type": "execute_result"
    }
   ],
   "source": [
    "create_adjancy_list(matrix)"
   ]
  },
  {
   "cell_type": "markdown",
   "metadata": {},
   "source": [
    "## Given an adjancy list, create a list of tuples (node, neighbor)"
   ]
  },
  {
   "cell_type": "code",
   "execution_count": 13,
   "metadata": {},
   "outputs": [],
   "source": [
    "from typing import NamedTuple\n",
    "\n",
    "\n",
    "class DirectedEdge(NamedTuple):\n",
    "    source: int\n",
    "    target: int\n",
    "\n",
    "    def __repr__(self) -> str:\n",
    "        return f\"DirectedEdge(source={self.source}, target={self.target})\"\n",
    "\n",
    "    def __str__(self) -> str:\n",
    "        return self.__repr__()\n",
    "\n",
    "\n",
    "class UndirectedEdge(NamedTuple):\n",
    "    node1: int\n",
    "    node2: int\n",
    "\n",
    "    def __repr__(self) -> str:\n",
    "        return f\"UndirectedEdge(node1={self.node1}, node2={self.node2})\"\n",
    "\n",
    "    def __str__(self) -> str:\n",
    "        return self.__repr__()"
   ]
  },
  {
   "cell_type": "code",
   "execution_count": 21,
   "metadata": {},
   "outputs": [],
   "source": [
    "def create_adjancy_tuples(g: Graph):\n",
    "    adjancy_tuples: list[UndirectedEdge] = []\n",
    "\n",
    "    for node in g.keys():\n",
    "        for neighbor in g[node]:\n",
    "            adjancy_tuples.append(UndirectedEdge(node, neighbor))\n",
    "\n",
    "    return adjancy_tuples"
   ]
  },
  {
   "cell_type": "code",
   "execution_count": 18,
   "metadata": {},
   "outputs": [],
   "source": [
    "def create_directed_adjancy_tuples(g: Graph):\n",
    "    adjancy_tuples: list[DirectedEdge] = []\n",
    "\n",
    "    for node in g.keys():\n",
    "        for neighbor in g[node]:\n",
    "            adjancy_tuples.append(DirectedEdge(node, neighbor))\n",
    "\n",
    "    return adjancy_tuples"
   ]
  },
  {
   "cell_type": "code",
   "execution_count": 20,
   "metadata": {},
   "outputs": [
    {
     "data": {
      "text/plain": [
       "[DirectedEdge(source=0, target=1),\n",
       " DirectedEdge(source=0, target=2),\n",
       " DirectedEdge(source=1, target=2),\n",
       " DirectedEdge(source=2, target=3),\n",
       " DirectedEdge(source=3, target=1),\n",
       " DirectedEdge(source=3, target=2),\n",
       " DirectedEdge(source=4, target=5),\n",
       " DirectedEdge(source=5, target=4)]"
      ]
     },
     "execution_count": 20,
     "metadata": {},
     "output_type": "execute_result"
    }
   ],
   "source": [
    "create_directed_adjancy_tuples(_graph)"
   ]
  },
  {
   "cell_type": "code",
   "execution_count": null,
   "metadata": {},
   "outputs": [],
   "source": []
  }
 ],
 "metadata": {
  "kernelspec": {
   "display_name": "sra",
   "language": "python",
   "name": "python3"
  },
  "language_info": {
   "codemirror_mode": {
    "name": "ipython",
    "version": 3
   },
   "file_extension": ".py",
   "mimetype": "text/x-python",
   "name": "python",
   "nbconvert_exporter": "python",
   "pygments_lexer": "ipython3",
   "version": "3.10.13"
  }
 },
 "nbformat": 4,
 "nbformat_minor": 2
}
