{
 "cells": [
  {
   "cell_type": "markdown",
   "metadata": {},
   "source": [
    "An implementation from scratch of the transformer architecture from the original paper [Attention is all you need](https://arxiv.org/abs/1706.03762)"
   ]
  },
  {
   "cell_type": "code",
   "execution_count": 1,
   "metadata": {},
   "outputs": [],
   "source": [
    "import torch\n",
    "from torch import nn\n",
    "import torch.nn.functional as F\n",
    "\n",
    "import math"
   ]
  },
  {
   "cell_type": "code",
   "execution_count": 2,
   "metadata": {},
   "outputs": [],
   "source": [
    "def scaled_dot_product(query: torch.Tensor, key: torch.Tensor, value: torch.Tensor):\n",
    "    r\"\"\"Computes attention scores of a given sequence using scaled dot product from the\n",
    "    original transformer paper.\n",
    "\n",
    "\n",
    "    Parameters\n",
    "    ----------\n",
    "    query : torch.Tensor\n",
    "        A tensor of size (batch_size, num_queries, d_model)\n",
    "    key : torch.Tensor\n",
    "        A tensor of size (batch_size, num_keys, d_model)\n",
    "    value : torch.Tensor\n",
    "        A tensor of size (batch_size, num_values, d_model)\n",
    "\n",
    "\n",
    "    Info\n",
    "    -----\n",
    "    For computation efficiency, num_queries = num_keys = num_values\n",
    "    \"\"\"\n",
    "\n",
    "    # Last dim size = embedding size\n",
    "    k_dim = query.size(-1)\n",
    "\n",
    "    # key becomes (batch_size, d_model, num_keys) so the output tensor will be (batch_size, num_queries, num_keys)\n",
    "    omega_scores = torch.bmm(query, key.transpose(1, 2)) / math.sqrt(k_dim)\n",
    "    weights = F.softmax(omega_scores, dim=-1)\n",
    "\n",
    "    return weights.bmm(value)"
   ]
  },
  {
   "cell_type": "code",
   "execution_count": 3,
   "metadata": {},
   "outputs": [],
   "source": [
    "class AttentionHead(nn.Module):\n",
    "    r\"\"\"A single attention with an input of shape [batch_size, seq_len, embed_dim]\n",
    "    and project it into a tensor of dimension head_dim. The output of each linear\n",
    "    transformation is a tensor of shape [batch_size, seq_len, head_dim]\n",
    "    \"\"\"\n",
    "\n",
    "    def __init__(self, embed_dim: int, head_dim: int):\n",
    "        super().__init__()\n",
    "\n",
    "        self.w_q = nn.Linear(embed_dim, head_dim)\n",
    "        self.w_k = nn.Linear(embed_dim, head_dim)\n",
    "        self.w_v = nn.Linear(embed_dim, head_dim)\n",
    "\n",
    "    def forward(self, hidden_state: torch.Tensor):\n",
    "        attention_output = scaled_dot_product(\n",
    "            query=self.w_q(hidden_state),\n",
    "            key=self.w_k(hidden_state),\n",
    "            value=self.w_v(hidden_state),\n",
    "        )\n",
    "\n",
    "        return attention_output"
   ]
  },
  {
   "cell_type": "markdown",
   "metadata": {},
   "source": [
    "It is not compulsory to make head_dim smaller than embed_dim, it is a common practice to choose it\n",
    "as a multiple of embed_dim to make the computation constant across heads.  "
   ]
  },
  {
   "cell_type": "code",
   "execution_count": 9,
   "metadata": {},
   "outputs": [],
   "source": [
    "class MultiHeadAttention(nn.Module):\n",
    "\n",
    "    def __init__(self, config):\n",
    "        super().__init__()\n",
    "\n",
    "        embed_dim: int = config.hidden_size\n",
    "        num_heads: int = config.num_attention_heads\n",
    "        head_dim: int = embed_dim // num_heads\n",
    "\n",
    "        self.heads = nn.ModuleList(\n",
    "            [AttentionHead(embed_dim, head_dim) for _ in range(num_heads)]\n",
    "        )\n",
    "        self.output_linear = nn.Linear(embed_dim, embed_dim)\n",
    "\n",
    "    def forward(self, hidden_state: torch.Tensor):\n",
    "        # This will produces num_heads tensors of shape [batch_size, seq_len, head_dim]\n",
    "        # However, num_heads * head_dim = embed_dim, thus concatenating on the last dim\n",
    "        # will produce a final tensor of shape [batch_size, seq_len, embed_dim] that\n",
    "        # matches self.output_linear input shape\n",
    "        x = torch.cat([h(hidden_state) for h in self.heads], dim=-1)\n",
    "\n",
    "        # Adjusting the shape to have the same size as the input sequence\n",
    "        x = self.output_linear(x)\n",
    "\n",
    "        return x"
   ]
  },
  {
   "cell_type": "code",
   "execution_count": 24,
   "metadata": {},
   "outputs": [],
   "source": [
    "class FeedForward(nn.Module):\n",
    "    def __init__(self, config):\n",
    "        super().__init__()\n",
    "\n",
    "        self.linear = nn.Sequential(\n",
    "            nn.Linear(config.hidden_size, config.intermediate_size),\n",
    "            nn.GELU(),\n",
    "            nn.Linear(config.intermediate_size, config.hidden_size),\n",
    "        )\n",
    "\n",
    "        self.dropout = nn.Dropout(config.hidden_dropout_prob)\n",
    "\n",
    "    def forward(self, x: torch.Tensor):\n",
    "        x = self.linear(x)\n",
    "        x = self.dropout(x)\n",
    "\n",
    "        return x"
   ]
  },
  {
   "cell_type": "code",
   "execution_count": 28,
   "metadata": {},
   "outputs": [],
   "source": [
    "class TransformerEncoderLayer(nn.Module):\n",
    "    def __init__(self, config):\n",
    "        super().__init__()\n",
    "\n",
    "        self.layer_norm_1 = nn.LayerNorm(config.hidden_size)\n",
    "        self.layer_norm_2 = nn.LayerNorm(config.hidden_size)\n",
    "        self.attention = MultiHeadAttention(config)\n",
    "        self.feed_forward = FeedForward(config)\n",
    "\n",
    "    def forward(self, x: torch.Tensor):\n",
    "        # norm\n",
    "        hidden_state = self.layer_norm_1(x)\n",
    "\n",
    "        # skip connection\n",
    "        x = x + self.attention(hidden_state)\n",
    "\n",
    "        # fff + skip connection\n",
    "        x = x + self.feed_forward(self.layer_norm_2(x))\n",
    "\n",
    "        return x"
   ]
  },
  {
   "cell_type": "code",
   "execution_count": 29,
   "metadata": {},
   "outputs": [],
   "source": [
    "class TransformerEmbedding(nn.Module):\n",
    "    def __init__(self, config):\n",
    "        super().__init__()\n",
    "\n",
    "        self.token_embeddings = nn.Embedding(config.vocab_size, config.hidden_size)\n",
    "        self.position_embeddings = nn.Embedding(\n",
    "            config.max_position_embeddings, config.hidden_size\n",
    "        )\n",
    "        self.norm = nn.LayerNorm(config.hidden_size)\n",
    "        self.dropout = nn.Dropout()\n",
    "\n",
    "    def forward(self, input_ids: torch.Tensor):\n",
    "        # create positional IDs for the sequence\n",
    "        seq_len = input_ids.size(1)\n",
    "        position_ids = torch.arange(seq_len, dtype=torch.long).unsqueeze(0)\n",
    "\n",
    "        # token + position embeddings\n",
    "        token_embeddings = self.token_embeddings(input_ids)\n",
    "        position_embeddings = self.position_embeddings(position_ids)\n",
    "\n",
    "        # Final embeddings\n",
    "        embeddings = token_embeddings + position_embeddings\n",
    "        embeddings = self.norm(embeddings)\n",
    "        embeddings = self.dropout(embeddings)\n",
    "\n",
    "        return embeddings"
   ]
  },
  {
   "cell_type": "code",
   "execution_count": 32,
   "metadata": {},
   "outputs": [],
   "source": [
    "class TransformerEncoder(nn.Module):\n",
    "    def __init__(self, config):\n",
    "        super().__init__()\n",
    "\n",
    "        self.embeddings = TransformerEmbedding(config)\n",
    "        self.layers = nn.ModuleList(\n",
    "            [TransformerEncoderLayer(config) for _ in range(config.num_hidden_layers)]\n",
    "        )\n",
    "\n",
    "    def forward(self, x: torch.Tensor):\n",
    "        x = self.embeddings(x)\n",
    "        for layer in self.layers:\n",
    "            x = layer(x)\n",
    "\n",
    "        return x"
   ]
  },
  {
   "cell_type": "code",
   "execution_count": null,
   "metadata": {},
   "outputs": [],
   "source": []
  }
 ],
 "metadata": {
  "kernelspec": {
   "display_name": "atom",
   "language": "python",
   "name": "python3"
  },
  "language_info": {
   "codemirror_mode": {
    "name": "ipython",
    "version": 3
   },
   "file_extension": ".py",
   "mimetype": "text/x-python",
   "name": "python",
   "nbconvert_exporter": "python",
   "pygments_lexer": "ipython3",
   "version": "3.11.7"
  }
 },
 "nbformat": 4,
 "nbformat_minor": 2
}
