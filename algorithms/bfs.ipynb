{
 "cells": [
  {
   "cell_type": "code",
   "execution_count": 68,
   "metadata": {},
   "outputs": [],
   "source": [
    "class Node:\n",
    "    def __init__(self, index: int) -> None:\n",
    "        self.index = index"
   ]
  },
  {
   "cell_type": "code",
   "execution_count": 69,
   "metadata": {},
   "outputs": [],
   "source": [
    "class Queue:\n",
    "    def __init__(self) -> None:\n",
    "        self.queue = []\n",
    "\n",
    "    def enqueue(self, node: Node) -> None:\n",
    "        self.queue.append(node)\n",
    "\n",
    "    def dequeue(self) -> Node:\n",
    "        return self.queue.pop(0)\n",
    "\n",
    "    def is_empty(self) -> bool:\n",
    "        return len(self.queue) == 0"
   ]
  },
  {
   "cell_type": "code",
   "execution_count": 70,
   "metadata": {},
   "outputs": [],
   "source": [
    "adjancy_list = {0: [1, 2], 1: [0, 2, 3], 2: [0, 1, 3], 3: [1, 2, 4], 4: [3]}\n",
    "\n",
    "n_nodes = len(adjancy_list)"
   ]
  },
  {
   "cell_type": "code",
   "execution_count": 71,
   "metadata": {},
   "outputs": [],
   "source": [
    "from typing import Union\n",
    "\n",
    "\n",
    "def solve(start: Node):\n",
    "    _queue = Queue()\n",
    "    _queue.enqueue(start)\n",
    "\n",
    "    visited = [False] * n_nodes\n",
    "    visited[start.index] = True\n",
    "    previous: list[Union[int, None]] = [None] * n_nodes\n",
    "\n",
    "    while not _queue.is_empty():\n",
    "        node = _queue.dequeue()\n",
    "        neighbors = adjancy_list[node.index]\n",
    "\n",
    "        for neighbor in neighbors:\n",
    "            if not visited[neighbor]:\n",
    "                _queue.enqueue(Node(neighbor))\n",
    "                visited[neighbor] = True\n",
    "                previous[neighbor] = node.index\n",
    "\n",
    "    return previous"
   ]
  },
  {
   "cell_type": "code",
   "execution_count": 72,
   "metadata": {},
   "outputs": [],
   "source": [
    "def reconstruct_path(start: Node, end: Node, previous: list[Union[int, None]]):\n",
    "    # On doit parcourir le chemin à l'envers\n",
    "    path = [end.index]\n",
    "    for idx in range(len(previous) - 1, 0, -1):  # Q: will it reach 0 ?\n",
    "        if previous[idx] is not None:\n",
    "            path.append(previous[idx])\n",
    "\n",
    "    path.reverse()  # On inverse le chemin pour avoir le bon ordre\n",
    "\n",
    "    if (\n",
    "        path[0] == start.index\n",
    "    ):  # On vérifie que le chemin commence bien par le noeud de départ\n",
    "        return path\n",
    "\n",
    "    return []"
   ]
  },
  {
   "cell_type": "code",
   "execution_count": 73,
   "metadata": {},
   "outputs": [],
   "source": [
    "def bfs(start: Node, end: Node):\n",
    "    previous = solve(start)\n",
    "    return reconstruct_path(start, end, previous)"
   ]
  },
  {
   "cell_type": "code",
   "execution_count": 74,
   "metadata": {},
   "outputs": [
    {
     "name": "stdout",
     "output_type": "stream",
     "text": [
      "3\n",
      "1\n",
      "0\n",
      "0\n"
     ]
    },
    {
     "data": {
      "text/plain": [
       "[0, 0, 1, 3, 4]"
      ]
     },
     "execution_count": 74,
     "metadata": {},
     "output_type": "execute_result"
    }
   ],
   "source": [
    "bfs(Node(0), Node(4))"
   ]
  },
  {
   "cell_type": "code",
   "execution_count": null,
   "metadata": {},
   "outputs": [],
   "source": []
  }
 ],
 "metadata": {
  "kernelspec": {
   "display_name": "sra",
   "language": "python",
   "name": "python3"
  },
  "language_info": {
   "codemirror_mode": {
    "name": "ipython",
    "version": 3
   },
   "file_extension": ".py",
   "mimetype": "text/x-python",
   "name": "python",
   "nbconvert_exporter": "python",
   "pygments_lexer": "ipython3",
   "version": "3.10.13"
  }
 },
 "nbformat": 4,
 "nbformat_minor": 2
}
