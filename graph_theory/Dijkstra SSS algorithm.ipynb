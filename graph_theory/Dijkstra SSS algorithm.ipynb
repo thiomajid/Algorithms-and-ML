{
 "cells": [
  {
   "cell_type": "code",
   "execution_count": 1,
   "metadata": {},
   "outputs": [],
   "source": [
    "class Edge:\n",
    "    def __init__(self, tail: int, head: int, weight: int) -> None:\n",
    "        self.tail = tail\n",
    "        self.head = head\n",
    "        self.weight = weight\n",
    "\n",
    "    def __repr__(self) -> str:\n",
    "        return f\"Edge(tail={self.tail}, head={self.head}, weight={self.weight})\"\n",
    "\n",
    "\n",
    "class Graph:\n",
    "    def __init__(self, nodes: list[int], edges: list[Edge]) -> None:\n",
    "        self.nodes = nodes\n",
    "        self.edges = edges\n",
    "\n",
    "    def __repr__(self) -> str:\n",
    "        return f\"Graph(nodes={self.nodes}, edges={self.edges})\"\n",
    "\n",
    "    def __str__(self) -> str:\n",
    "        return self.__repr__()\n",
    "\n",
    "    def add_node(self, node: int) -> None:\n",
    "        self.nodes.append(node)\n",
    "\n",
    "    def add_edge(self, edge: Edge) -> None:\n",
    "        self.edges.append(edge)"
   ]
  },
  {
   "cell_type": "markdown",
   "metadata": {},
   "source": [
    "# Dijkstra algorithm"
   ]
  },
  {
   "cell_type": "code",
   "execution_count": 7,
   "metadata": {},
   "outputs": [],
   "source": [
    "import heapq\n",
    "import math\n",
    "\n",
    "\n",
    "\n",
    "def dijkstra(graph: Graph, source: int):\n",
    "    n_nodes = len(graph.nodes)\n",
    "    parent = [None] * n_nodes\n",
    "\n",
    "\n",
    "    distances = [math.inf if idx != source else 0 for idx in range(n_nodes)]\n",
    "    visited = [False for _ in range(n_nodes)]\n",
    "\n",
    "\n",
    "    queue = [(0, source)]  # a tuple (distance, node)\n",
    "    heapq.heapify(queue)\n",
    "\n",
    "\n",
    "    while queue:\n",
    "        current_distance, node = heapq.heappop(queue)\n",
    "        if visited[node]:\n",
    "            continue\n",
    "\n",
    "\n",
    "        visited[node] = True\n",
    "\n",
    "        for edge in graph.edges:\n",
    "            if edge.tail == node and not visited[edge.head]:\n",
    "                if distances[edge.head] > current_distance + edge.weight:\n",
    "                    # Update the best cost\n",
    "                    distances[edge.head] = current_distance + edge.weight\n",
    "                    parent[edge.head] = node\n",
    "\n",
    "                    heapq.heappush(queue, (distances[edge.head], edge.head))\n",
    "\n",
    "\n",
    "    return distances, parent"
   ]
  },
  {
   "cell_type": "markdown",
   "metadata": {},
   "source": [
    "Using the `heapq` module, the complexity of this implementation is as follows:\n",
    "\n",
    "- Arrays and heap initialization: $O(V)$\n",
    "- `heappush` and `heappop`: $O(\\log V)$\n",
    "- `while` loop: $O(V \\log V)$\n",
    "- `for` loop: $O(E \\log V)$\n",
    "\n",
    "But simplifying the complexity, it becomes:\n",
    "\n",
    "$$\n",
    "\\begin{align}\n",
    "\n",
    "O(V + V \\log V + E \\log V) &\\approx O(V + E \\log V) \\text{ see that in most cases } E \\ge V \\text{ thus } \\log V \\text{ grows slower than } \\log E \\\\\n",
    "&\\approx O(E \\log V) \\text{ for simplification }\n",
    "\n",
    "\\end{align}\n",
    "$$\n",
    "\n",
    "The total complexity is $O(V + E \\log V) \\approx O(E \\log V)$, with a space complexity of $O(V)$.\n",
    "If the graph is sparse, the complexity is $O(E \\log V)$, but if the graph is dense, the complexity is $O(V^2 \\log V)$.\n",
    "\n",
    "If an array is used instead of a heap, the complexity is $O(V^2 + EV)$.\n"
   ]
  },
  {
   "cell_type": "code",
   "execution_count": 8,
   "metadata": {},
   "outputs": [],
   "source": [
    "edges = [\n",
    "    # node s\n",
    "    Edge(0, 1, 3),\n",
    "    Edge(0, 2, 1),\n",
    "    Edge(0, 3, 5),\n",
    "    # a\n",
    "    Edge(1, 3, 2),\n",
    "    # b\n",
    "    Edge(2, 1, 1),\n",
    "    Edge(2, 4, 6),\n",
    "    Edge(2, 5, 15),\n",
    "    # c\n",
    "    Edge(3, 4, 2),\n",
    "    Edge(3, 5, 5),\n",
    "    # d\n",
    "    Edge(4, 5, 2),\n",
    "    Edge(4, 3, 3),\n",
    "]\n",
    "\n",
    "graph = Graph([0, 1, 2, 3, 4, 5], edges)"
   ]
  },
  {
   "cell_type": "code",
   "execution_count": 9,
   "metadata": {},
   "outputs": [],
   "source": [
    "from pprint import pprint\n",
    "\n",
    "distances, parents = dijkstra(graph, 0)"
   ]
  },
  {
   "cell_type": "code",
   "execution_count": 10,
   "metadata": {},
   "outputs": [
    {
     "name": "stdout",
     "output_type": "stream",
     "text": [
      "[0, 2, 1, 4, 6, 8]\n"
     ]
    }
   ],
   "source": [
    "pprint(distances)"
   ]
  },
  {
   "cell_type": "code",
   "execution_count": 11,
   "metadata": {},
   "outputs": [
    {
     "name": "stdout",
     "output_type": "stream",
     "text": [
      "[None, 2, 0, 1, 3, 4]\n"
     ]
    }
   ],
   "source": [
    "pprint(parents)"
   ]
  },
  {
   "cell_type": "code",
   "execution_count": null,
   "metadata": {},
   "outputs": [],
   "source": []
  }
 ],
 "metadata": {
  "kernelspec": {
   "display_name": "atom",
   "language": "python",
   "name": "python3"
  },
  "language_info": {
   "codemirror_mode": {
    "name": "ipython",
    "version": 3
   },
   "file_extension": ".py",
   "mimetype": "text/x-python",
   "name": "python",
   "nbconvert_exporter": "python",
   "pygments_lexer": "ipython3",
   "version": "3.11.5"
  }
 },
 "nbformat": 4,
 "nbformat_minor": 2
}
