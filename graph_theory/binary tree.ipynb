{
 "cells": [
  {
   "cell_type": "code",
   "execution_count": 22,
   "metadata": {},
   "outputs": [],
   "source": [
    "from typing import Union\n",
    "\n",
    "\n",
    "class Node:\n",
    "    def __init__(self, data: int) -> None:\n",
    "        self.data = data\n",
    "        self.left: Union[Node, None] = None\n",
    "        self.right: Union[Node, None] = None\n",
    "\n",
    "    def __repr__(self) -> str:\n",
    "        return f\"Node(data={self.data})\"\n",
    "\n",
    "    def __str__(self) -> str:\n",
    "        return self.__repr__()"
   ]
  },
  {
   "cell_type": "code",
   "execution_count": 23,
   "metadata": {},
   "outputs": [],
   "source": [
    "from typing import Callable\n",
    "\n",
    "\n",
    "def contains_value(root: Node, predicate: Callable[[Node], bool]):\n",
    "    pass\n",
    "\n",
    "\n",
    "def contains_value(root: Node, value: int):\n",
    "    \"\"\"Checks if it exists a node in the tree with the provided value\"\"\"\n",
    "    if root is None:\n",
    "        return False\n",
    "\n",
    "    if root.data == value:\n",
    "        return True\n",
    "    else:\n",
    "        if value < root.data:\n",
    "            return contains_value(root.left, value)\n",
    "        else:\n",
    "            return contains_value(root.right, value)\n",
    "\n",
    "\n",
    "def find_node(root: Node, value: int):\n",
    "    \"\"\"Finds the node containing the provided value\"\"\"\n",
    "    if root is None:\n",
    "        return None\n",
    "\n",
    "    if root.data == value:\n",
    "        return root\n",
    "    else:\n",
    "        if value < root.data:\n",
    "            return find_node(root.left, value)\n",
    "        else:\n",
    "            return find_node(root.right, value)\n",
    "\n",
    "\n",
    "def insert_node(root: Node, value: int):\n",
    "    if root is None:\n",
    "        return Node(value)\n",
    "\n",
    "    if value < root.data:\n",
    "        root.left = insert_node(root.left, value)\n",
    "    else:\n",
    "        root.right = insert_node(root.right, value)\n",
    "\n",
    "    return root\n",
    "\n",
    "\n",
    "def delete_node(root: Node, value: int):\n",
    "    \"\"\"Deletes the node containing the provided value\"\"\"\n",
    "\n",
    "    pass"
   ]
  },
  {
   "cell_type": "code",
   "execution_count": 24,
   "metadata": {},
   "outputs": [],
   "source": [
    "def in_order_traversal(root: Node):\n",
    "    if root is not None:\n",
    "        in_order_traversal(root.left)\n",
    "        print(root.data)\n",
    "        in_order_traversal(root.right)\n",
    "\n",
    "\n",
    "def post_order_traversal(root: Node):\n",
    "    if root is not None:\n",
    "        post_order_traversal(root.left)\n",
    "        post_order_traversal(root.right)\n",
    "        print(root.data)\n",
    "\n",
    "\n",
    "def pre_order_traversal(root: Node):\n",
    "    if root is not None:\n",
    "        print(root.data)\n",
    "        pre_order_traversal(root.left)\n",
    "        pre_order_traversal(root.right)"
   ]
  },
  {
   "cell_type": "code",
   "execution_count": 25,
   "metadata": {},
   "outputs": [],
   "source": [
    "def min_node(root: Node):\n",
    "    if root.left is None:\n",
    "        return root\n",
    "    else:\n",
    "        return min_node(root.left)\n",
    "\n",
    "\n",
    "def max_node(root: Node):\n",
    "    if root.right is None:\n",
    "        return root\n",
    "    else:\n",
    "        return max_node(root.right)"
   ]
  },
  {
   "cell_type": "code",
   "execution_count": 26,
   "metadata": {},
   "outputs": [
    {
     "data": {
      "text/plain": [
       "Node(data=15)"
      ]
     },
     "execution_count": 26,
     "metadata": {},
     "output_type": "execute_result"
    }
   ],
   "source": [
    "tree_root = Node(10)\n",
    "insert_node(tree_root, 5)\n",
    "insert_node(tree_root, 15)\n",
    "\n",
    "insert_node(tree_root.left, 3)\n",
    "insert_node(tree_root.left, 7)\n",
    "\n",
    "insert_node(tree_root.right, 13)\n",
    "insert_node(tree_root.right, 17)"
   ]
  },
  {
   "cell_type": "code",
   "execution_count": 27,
   "metadata": {},
   "outputs": [
    {
     "name": "stdout",
     "output_type": "stream",
     "text": [
      "3\n",
      "5\n",
      "7\n",
      "10\n",
      "13\n",
      "15\n",
      "17\n"
     ]
    }
   ],
   "source": [
    "in_order_traversal(tree_root)"
   ]
  },
  {
   "cell_type": "code",
   "execution_count": 28,
   "metadata": {},
   "outputs": [
    {
     "name": "stdout",
     "output_type": "stream",
     "text": [
      "3\n",
      "7\n",
      "5\n",
      "13\n",
      "17\n",
      "15\n",
      "10\n"
     ]
    }
   ],
   "source": [
    "post_order_traversal(tree_root)"
   ]
  },
  {
   "cell_type": "code",
   "execution_count": 29,
   "metadata": {},
   "outputs": [
    {
     "name": "stdout",
     "output_type": "stream",
     "text": [
      "10\n",
      "5\n",
      "3\n",
      "7\n",
      "15\n",
      "13\n",
      "17\n"
     ]
    }
   ],
   "source": [
    "pre_order_traversal(tree_root)"
   ]
  },
  {
   "cell_type": "code",
   "execution_count": 30,
   "metadata": {},
   "outputs": [
    {
     "data": {
      "text/plain": [
       "(Node(data=3), Node(data=17))"
      ]
     },
     "execution_count": 30,
     "metadata": {},
     "output_type": "execute_result"
    }
   ],
   "source": [
    "min_node(tree_root), max_node(tree_root)"
   ]
  },
  {
   "cell_type": "code",
   "execution_count": 31,
   "metadata": {},
   "outputs": [
    {
     "data": {
      "text/plain": [
       "(True, False)"
      ]
     },
     "execution_count": 31,
     "metadata": {},
     "output_type": "execute_result"
    }
   ],
   "source": [
    "contains_value(tree_root, 3), contains_value(tree_root, 75)"
   ]
  },
  {
   "cell_type": "code",
   "execution_count": 32,
   "metadata": {},
   "outputs": [
    {
     "data": {
      "text/plain": [
       "(Node(data=3), None)"
      ]
     },
     "execution_count": 32,
     "metadata": {},
     "output_type": "execute_result"
    }
   ],
   "source": [
    "find_node(tree_root, 3), find_node(tree_root, 75)"
   ]
  }
 ],
 "metadata": {
  "kernelspec": {
   "display_name": "atom",
   "language": "python",
   "name": "python3"
  },
  "language_info": {
   "codemirror_mode": {
    "name": "ipython",
    "version": 3
   },
   "file_extension": ".py",
   "mimetype": "text/x-python",
   "name": "python",
   "nbconvert_exporter": "python",
   "pygments_lexer": "ipython3",
   "version": "3.11.5"
  }
 },
 "nbformat": 4,
 "nbformat_minor": 2
}
