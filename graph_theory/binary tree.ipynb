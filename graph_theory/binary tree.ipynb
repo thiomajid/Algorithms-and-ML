{
 "cells": [
  {
   "cell_type": "code",
   "execution_count": 1,
   "metadata": {},
   "outputs": [],
   "source": [
    "from typing import Union\n",
    "\n",
    "\n",
    "class Node:\n",
    "    def __init__(self, data: int) -> None:\n",
    "        self.data = data\n",
    "\n",
    "\n",
    "class BaseNode(Node):\n",
    "    def __init__(self, data: int) -> None:\n",
    "        super().__init__(data)\n",
    "\n",
    "        self.children: list[BaseNode] = []\n",
    "\n",
    "\n",
    "class BinaryNode(Node):\n",
    "    def __init__(self, data: int) -> None:\n",
    "        super().__init__(data)\n",
    "\n",
    "        self.left: Union[BinaryNode, None] = None\n",
    "        self.right: Union[BinaryNode, None] = None"
   ]
  },
  {
   "cell_type": "code",
   "execution_count": 2,
   "metadata": {},
   "outputs": [],
   "source": [
    "def insert_node(root: Node, value: int):\n",
    "    if root is None:\n",
    "        return BinaryNode(value)\n",
    "\n",
    "    if value < root.data:\n",
    "        root.left = insert_node(root.left, value)\n",
    "\n",
    "    else:\n",
    "        root.right = insert_node(root.right, value)\n",
    "\n",
    "    return root"
   ]
  },
  {
   "cell_type": "code",
   "execution_count": 3,
   "metadata": {},
   "outputs": [],
   "source": [
    "def in_order(root: Node):\n",
    "    if root is not None:\n",
    "        in_order(root.left)\n",
    "        print(root.data)\n",
    "        in_order(root.right)"
   ]
  },
  {
   "cell_type": "code",
   "execution_count": 4,
   "metadata": {},
   "outputs": [],
   "source": [
    "def post_order(root: Node):\n",
    "    if root is not None:\n",
    "        post_order(root.left)\n",
    "        post_order(root.right)\n",
    "        print(root.data)\n",
    "\n",
    "\n",
    "def pre_order(root: Node):\n",
    "    if root is not None:\n",
    "        print(root.data)\n",
    "        pre_order(root.left)\n",
    "        pre_order(root.right)"
   ]
  },
  {
   "cell_type": "code",
   "execution_count": 5,
   "metadata": {},
   "outputs": [
    {
     "name": "stdout",
     "output_type": "stream",
     "text": [
      "3\n",
      "5\n",
      "7\n",
      "10\n",
      "13\n",
      "15\n",
      "17\n"
     ]
    }
   ],
   "source": [
    "root = BinaryNode(10)\n",
    "insert_node(root, 5)\n",
    "insert_node(root, 15)\n",
    "\n",
    "insert_node(root.left, 3)\n",
    "insert_node(root.left, 7)\n",
    "\n",
    "insert_node(root.right, 13)\n",
    "insert_node(root.right, 17)\n",
    "\n",
    "in_order(root)"
   ]
  },
  {
   "cell_type": "code",
   "execution_count": 6,
   "metadata": {},
   "outputs": [
    {
     "name": "stdout",
     "output_type": "stream",
     "text": [
      "3\n",
      "7\n",
      "5\n",
      "13\n",
      "17\n",
      "15\n",
      "10\n"
     ]
    }
   ],
   "source": [
    "post_order(root)"
   ]
  },
  {
   "cell_type": "code",
   "execution_count": 7,
   "metadata": {},
   "outputs": [
    {
     "name": "stdout",
     "output_type": "stream",
     "text": [
      "10\n",
      "5\n",
      "3\n",
      "7\n",
      "15\n",
      "13\n",
      "17\n"
     ]
    }
   ],
   "source": [
    "pre_order(root)"
   ]
  }
 ],
 "metadata": {
  "kernelspec": {
   "display_name": "atom",
   "language": "python",
   "name": "python3"
  },
  "language_info": {
   "codemirror_mode": {
    "name": "ipython",
    "version": 3
   },
   "file_extension": ".py",
   "mimetype": "text/x-python",
   "name": "python",
   "nbconvert_exporter": "python",
   "pygments_lexer": "ipython3",
   "version": "3.11.5"
  }
 },
 "nbformat": 4,
 "nbformat_minor": 2
}
