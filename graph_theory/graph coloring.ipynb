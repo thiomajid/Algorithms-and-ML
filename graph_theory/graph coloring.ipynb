{
 "cells": [
  {
   "cell_type": "code",
   "execution_count": 1,
   "metadata": {},
   "outputs": [],
   "source": [
    "Graph = dict[str, list[str]]\n",
    "\n",
    "\n",
    "def color_graph(graph: Graph, n_colors: int):\n",
    "    # Define a set of available colors\n",
    "    color_set = set(range(1, n_colors + 1))\n",
    "\n",
    "    # Define a mapping of node to color\n",
    "    color_mapping = dict()\n",
    "\n",
    "    for node in graph:\n",
    "        neighbor_colors: set = {\n",
    "            color_mapping[voisin] for voisin in graph[node] if voisin in color_mapping\n",
    "        }\n",
    "\n",
    "        # récuprérer la couleur des voisins\n",
    "        # neighbors = graph[node]\n",
    "        # for neighbor in neighbors:\n",
    "        #     if neighbor in color_mapping:\n",
    "        #         neighbor_colors.add(color_mapping[neighbor])\n",
    "\n",
    "        # définir les couleurs possibles\n",
    "        candidate_colors = color_set - neighbor_colors\n",
    "\n",
    "        # choisir la couleur la plus petite\n",
    "        if candidate_colors:\n",
    "            choosen_color = min(candidate_colors)\n",
    "            color_mapping[node] = choosen_color\n",
    "\n",
    "        else:\n",
    "            raise ValueError(\n",
    "                \"Not enough colors to color the graph. Try increasing the number of colors.\"\n",
    "            )\n",
    "\n",
    "    return color_mapping"
   ]
  },
  {
   "cell_type": "code",
   "execution_count": 2,
   "metadata": {},
   "outputs": [
    {
     "name": "stdout",
     "output_type": "stream",
     "text": [
      "{'A': 1, 'B': 2, 'C': 3, 'D': 1}\n"
     ]
    }
   ],
   "source": [
    "n_colors = 3\n",
    "graph: Graph = {\n",
    "    \"A\": [\"B\", \"C\"],\n",
    "    \"B\": [\"A\", \"C\", \"D\"],\n",
    "    \"C\": [\"A\", \"B\", \"D\"],\n",
    "    \"D\": [\"B\", \"C\"],\n",
    "}\n",
    "\n",
    "result = color_graph(graph, n_colors)\n",
    "print(result)"
   ]
  },
  {
   "cell_type": "code",
   "execution_count": null,
   "metadata": {},
   "outputs": [],
   "source": []
  }
 ],
 "metadata": {
  "kernelspec": {
   "display_name": "sra",
   "language": "python",
   "name": "python3"
  },
  "language_info": {
   "codemirror_mode": {
    "name": "ipython",
    "version": 3
   },
   "file_extension": ".py",
   "mimetype": "text/x-python",
   "name": "python",
   "nbconvert_exporter": "python",
   "pygments_lexer": "ipython3",
   "version": "3.10.13"
  }
 },
 "nbformat": 4,
 "nbformat_minor": 2
}
