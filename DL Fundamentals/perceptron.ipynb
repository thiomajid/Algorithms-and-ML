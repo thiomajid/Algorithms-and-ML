{
 "cells": [
  {
   "cell_type": "markdown",
   "metadata": {},
   "source": [
    "# Implementing a perceptron\n",
    "\n",
    "![Alt text](./assets/perceptron.png)\n"
   ]
  },
  {
   "cell_type": "code",
   "execution_count": 1,
   "metadata": {
    "ExecuteTime": {
     "end_time": "2023-09-27T21:27:05.291922300Z",
     "start_time": "2023-09-27T21:27:04.378152100Z"
    }
   },
   "outputs": [],
   "source": [
    "import pandas as pd\n",
    "import numpy as np\n",
    "import matplotlib.pyplot as plt"
   ]
  },
  {
   "cell_type": "code",
   "execution_count": 2,
   "metadata": {
    "ExecuteTime": {
     "end_time": "2023-09-27T21:27:05.329312300Z",
     "start_time": "2023-09-27T21:27:05.299969100Z"
    }
   },
   "outputs": [
    {
     "data": {
      "text/html": [
       "<div>\n",
       "<style scoped>\n",
       "    .dataframe tbody tr th:only-of-type {\n",
       "        vertical-align: middle;\n",
       "    }\n",
       "\n",
       "    .dataframe tbody tr th {\n",
       "        vertical-align: top;\n",
       "    }\n",
       "\n",
       "    .dataframe thead th {\n",
       "        text-align: right;\n",
       "    }\n",
       "</style>\n",
       "<table border=\"1\" class=\"dataframe\">\n",
       "  <thead>\n",
       "    <tr style=\"text-align: right;\">\n",
       "      <th></th>\n",
       "      <th>x1</th>\n",
       "      <th>x2</th>\n",
       "      <th>label</th>\n",
       "    </tr>\n",
       "  </thead>\n",
       "  <tbody>\n",
       "    <tr>\n",
       "      <th>0</th>\n",
       "      <td>0.77</td>\n",
       "      <td>-1.14</td>\n",
       "      <td>0</td>\n",
       "    </tr>\n",
       "    <tr>\n",
       "      <th>1</th>\n",
       "      <td>-0.33</td>\n",
       "      <td>1.44</td>\n",
       "      <td>0</td>\n",
       "    </tr>\n",
       "    <tr>\n",
       "      <th>2</th>\n",
       "      <td>0.91</td>\n",
       "      <td>-3.07</td>\n",
       "      <td>0</td>\n",
       "    </tr>\n",
       "    <tr>\n",
       "      <th>3</th>\n",
       "      <td>-0.37</td>\n",
       "      <td>-1.91</td>\n",
       "      <td>0</td>\n",
       "    </tr>\n",
       "    <tr>\n",
       "      <th>4</th>\n",
       "      <td>-0.63</td>\n",
       "      <td>-1.53</td>\n",
       "      <td>0</td>\n",
       "    </tr>\n",
       "  </tbody>\n",
       "</table>\n",
       "</div>"
      ],
      "text/plain": [
       "     x1    x2  label\n",
       "0  0.77 -1.14      0\n",
       "1 -0.33  1.44      0\n",
       "2  0.91 -3.07      0\n",
       "3 -0.37 -1.91      0\n",
       "4 -0.63 -1.53      0"
      ]
     },
     "execution_count": 2,
     "metadata": {},
     "output_type": "execute_result"
    }
   ],
   "source": [
    "df = pd.read_csv(\"./data/perceptron_toydata-truncated.txt\", sep=\"\\t\")\n",
    "df.head()"
   ]
  },
  {
   "cell_type": "code",
   "execution_count": 3,
   "metadata": {
    "ExecuteTime": {
     "end_time": "2023-09-27T21:27:05.362974900Z",
     "start_time": "2023-09-27T21:27:05.321814400Z"
    }
   },
   "outputs": [],
   "source": [
    "x_train = df[[\"x1\", \"x2\"]].values\n",
    "y_train = df.label.values"
   ]
  },
  {
   "cell_type": "code",
   "execution_count": 4,
   "metadata": {
    "ExecuteTime": {
     "end_time": "2023-09-27T21:27:05.362974900Z",
     "start_time": "2023-09-27T21:27:05.331315700Z"
    }
   },
   "outputs": [
    {
     "data": {
      "text/plain": [
       "((20, 2), (20,))"
      ]
     },
     "execution_count": 4,
     "metadata": {},
     "output_type": "execute_result"
    }
   ],
   "source": [
    "x_train.shape, y_train.shape"
   ]
  },
  {
   "cell_type": "markdown",
   "metadata": {},
   "source": [
    "### Checking labels balance\n"
   ]
  },
  {
   "cell_type": "code",
   "execution_count": 5,
   "metadata": {
    "ExecuteTime": {
     "end_time": "2023-09-27T21:27:05.410241700Z",
     "start_time": "2023-09-27T21:27:05.346990900Z"
    }
   },
   "outputs": [
    {
     "data": {
      "text/plain": [
       "array([10, 10], dtype=int64)"
      ]
     },
     "execution_count": 5,
     "metadata": {},
     "output_type": "execute_result"
    }
   ],
   "source": [
    "np.bincount(y_train)"
   ]
  },
  {
   "cell_type": "markdown",
   "metadata": {},
   "source": [
    "### Some viz\n"
   ]
  },
  {
   "cell_type": "code",
   "execution_count": 6,
   "metadata": {
    "ExecuteTime": {
     "end_time": "2023-09-27T21:27:05.668307500Z",
     "start_time": "2023-09-27T21:27:05.355467600Z"
    }
   },
   "outputs": [
    {
     "data": {
      "image/png": "[encoded data removed]",
      "text/plain": [
       "<Figure size 640x480 with 1 Axes>"
      ]
     },
     "metadata": {},
     "output_type": "display_data"
    }
   ],
   "source": [
    "plt.plot(x_train[y_train == 0, 0], x_train[y_train == 0, 1],\n",
    "         marker=\"D\", markersize=10, label=\"Class 0\", linestyle=\"\", )\n",
    "\n",
    "plt.plot(x_train[y_train == 1, 0], x_train[y_train == 1, 1],\n",
    "         marker=\"^\", markersize=10, label=\"Class 1\", linestyle=\"\", )\n",
    "\n",
    "plt.legend(loc=2)\n",
    "plt.xlim([-5, 5])\n",
    "plt.ylim([-5, 5])\n",
    "\n",
    "plt.xlabel(\"Feature $x_1$\", fontsize=12)\n",
    "plt.ylabel(\"Feature $x_2$\", fontsize=12)\n",
    "plt.grid()\n",
    "plt.show()"
   ]
  },
  {
   "cell_type": "code",
   "execution_count": 7,
   "metadata": {
    "ExecuteTime": {
     "end_time": "2023-09-27T21:27:05.677451Z",
     "start_time": "2023-09-27T21:27:05.677451Z"
    }
   },
   "outputs": [],
   "source": [
    "from typing import Union, Literal\n",
    "import random\n",
    "\n",
    "INPUT_FEATURE = Union[list[int], np.array, int]\n",
    "\n",
    "\n",
    "class Perceptron:\n",
    "    def __init__(self, num_features: int) -> None:\n",
    "        self.num_features = num_features\n",
    "        self.weights = [random.random() for _ in range(num_features)]\n",
    "        self.bias = 0.0\n",
    "\n",
    "    def __str__(self) -> str:\n",
    "        return f\"Perceptron\\nWeights: {self.weights}\\nBias: {self.bias}\"\n",
    "\n",
    "    def __call__(self, x: INPUT_FEATURE) -> Literal[0, 1]:\n",
    "        return self._forward(x)\n",
    "\n",
    "    def _forward(self, x: INPUT_FEATURE):\n",
    "        z = self.bias\n",
    "\n",
    "        for idx, _ in enumerate(self.weights):\n",
    "            z += x[idx] * self.weights[idx]\n",
    "\n",
    "        return 1 if z > 0.0 else 0\n",
    "\n",
    "    def _update(self, x: INPUT_FEATURE, y_true: int):\n",
    "        prediction = self(x)\n",
    "        error = y_true - prediction\n",
    "\n",
    "        # update\n",
    "        self.bias += error\n",
    "        for idx, _ in enumerate(self.weights):\n",
    "            self.weights[idx] += error * x[idx]\n",
    "\n",
    "        return error\n",
    "\n",
    "    def fit(\n",
    "        self,\n",
    "        features: Union[list[int], np.array],\n",
    "        labels: Union[list[int], np.array],\n",
    "        num_epochs: int,\n",
    "    ):\n",
    "        for epoch in range(num_epochs):\n",
    "            error_count = 0\n",
    "\n",
    "            for x, y in zip(features, labels):\n",
    "                error = self._update(x, y)\n",
    "                error_count += abs(error)\n",
    "\n",
    "            print(f\"Epoch: {epoch + 1} => Errors: {error_count}\")\n",
    "\n",
    "    def summary(self):\n",
    "        print(self, \"\\n\")"
   ]
  },
  {
   "cell_type": "code",
   "execution_count": 8,
   "metadata": {
    "ExecuteTime": {
     "end_time": "2023-09-27T21:27:05.699079500Z",
     "start_time": "2023-09-27T21:27:05.679956400Z"
    }
   },
   "outputs": [
    {
     "name": "stdout",
     "output_type": "stream",
     "text": [
      "Perceptron\n",
      "Weights: [0.40003546533302226, 0.8324712158812145]\n",
      "Bias: 0.0 \n",
      "\n",
      "Epoch: 1 => Errors: 3\n",
      "Epoch: 2 => Errors: 1\n",
      "Epoch: 3 => Errors: 0\n",
      "Epoch: 4 => Errors: 0\n",
      "Epoch: 5 => Errors: 0\n",
      "Perceptron\n",
      "Weights: [4.030035465333022, 1.6724712158812145]\n",
      "Bias: -2.0 \n",
      "\n"
     ]
    }
   ],
   "source": [
    "model = Perceptron(num_features=2)\n",
    "model.summary()\n",
    "model.fit(x_train, y_train, num_epochs=5)\n",
    "model.summary()"
   ]
  },
  {
   "cell_type": "code",
   "execution_count": 9,
   "metadata": {
    "ExecuteTime": {
     "end_time": "2023-09-27T21:27:05.773068300Z",
     "start_time": "2023-09-27T21:27:05.688892300Z"
    }
   },
   "outputs": [],
   "source": [
    "def compute_accuracy(net: Perceptron, features: INPUT_FEATURE, labels: INPUT_FEATURE):\n",
    "    correct = 0.0\n",
    "\n",
    "    for x, y in zip(features, labels):\n",
    "        prediction = net(x)\n",
    "        correct += int(prediction == y)\n",
    "\n",
    "    return correct / len(labels)"
   ]
  },
  {
   "cell_type": "code",
   "execution_count": 10,
   "metadata": {
    "ExecuteTime": {
     "end_time": "2023-09-27T21:27:05.773068300Z",
     "start_time": "2023-09-27T21:27:05.699079500Z"
    }
   },
   "outputs": [
    {
     "data": {
      "text/plain": [
       "1.0"
      ]
     },
     "execution_count": 10,
     "metadata": {},
     "output_type": "execute_result"
    }
   ],
   "source": [
    "train_acc = compute_accuracy(model, x_train, y_train)\n",
    "train_acc"
   ]
  },
  {
   "cell_type": "markdown",
   "metadata": {},
   "source": [
    "$$\n",
    "\\begin{align}\n",
    "x_1w_1 + x_2w_2 + b &= 0 \\\\\n",
    "x_2w_2 &= - x_1w_1 - b \\\\\n",
    "x_2 &= \\frac{-x_1w_1 - b}{w_2}\n",
    "\\end{align}\n",
    "$$\n"
   ]
  },
  {
   "cell_type": "code",
   "execution_count": 11,
   "metadata": {
    "ExecuteTime": {
     "end_time": "2023-09-27T21:27:05.773068300Z",
     "start_time": "2023-09-27T21:27:05.713662900Z"
    }
   },
   "outputs": [],
   "source": [
    "def plot_boundary(net: Perceptron):\n",
    "    w1, w2 = model.weights[0], model.weights[1]\n",
    "    b = net.bias\n",
    "\n",
    "    x1_min = -20\n",
    "    x2_min = (-(x1_min * w1) - b) / w2\n",
    "\n",
    "    x1_max = 20\n",
    "    x2_max = (-(x1_max * w1) - b) / w2\n",
    "\n",
    "    return x1_min, x1_max, x2_min, x2_max"
   ]
  },
  {
   "cell_type": "code",
   "execution_count": 14,
   "metadata": {
    "ExecuteTime": {
     "end_time": "2023-09-27T21:27:05.888939200Z",
     "start_time": "2023-09-27T21:27:05.725452900Z"
    }
   },
   "outputs": [
    {
     "data": {
      "image/png": "[encoded data removed]",
      "text/plain": [
       "<Figure size 640x480 with 1 Axes>"
      ]
     },
     "metadata": {},
     "output_type": "display_data"
    }
   ],
   "source": [
    "x1_min, x1_max, x2_min, x2_max = plot_boundary(net=model)\n",
    "\n",
    "plt.plot(x_train[y_train == 0, 0], x_train[y_train == 0, 1],\n",
    "         marker=\"D\", markersize=10, label=\"Class 0\", linestyle=\"\", )\n",
    "\n",
    "plt.plot(x_train[y_train == 1, 0], x_train[y_train == 1, 1],\n",
    "         marker=\"^\", markersize=10, label=\"Class 1\", linestyle=\"\", )\n",
    "\n",
    "plt.plot([x1_min, x1_max], [x2_min, x2_max], color=\"k\", label=\"Boundary\")\n",
    "\n",
    "plt.legend(loc=2)\n",
    "plt.xlim([-5, 5])\n",
    "plt.ylim([-5, 5])\n",
    "\n",
    "plt.xlabel(\"Feature $x_1$\", fontsize=12)\n",
    "plt.ylabel(\"Feature $x_2$\", fontsize=12)\n",
    "\n",
    "plt.title(\"Perceptron decision boundary\")\n",
    "plt.grid()\n",
    "plt.show()"
   ]
  },
  {
   "cell_type": "code",
   "execution_count": null,
   "metadata": {
    "ExecuteTime": {
     "end_time": "2023-09-27T21:27:05.889442900Z",
     "start_time": "2023-09-27T21:27:05.889442900Z"
    }
   },
   "outputs": [],
   "source": []
  }
 ],
 "metadata": {
  "kernelspec": {
   "display_name": "atom",
   "language": "python",
   "name": "python3"
  },
  "language_info": {
   "codemirror_mode": {
    "name": "ipython",
    "version": 3
   },
   "file_extension": ".py",
   "mimetype": "text/x-python",
   "name": "python",
   "nbconvert_exporter": "python",
   "pygments_lexer": "ipython3",
   "version": "3.10.12"
  },
  "orig_nbformat": 4
 },
 "nbformat": 4,
 "nbformat_minor": 2
}
