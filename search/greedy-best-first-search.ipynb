{
 "cells": [
  {
   "cell_type": "markdown",
   "metadata": {},
   "source": [
    "Implémentation basique de l'algorithme `greedy best first search` en python sur le graphe suivant pour aller de `A` à `H`.\n",
    "\n",
    "```mermaid\n",
    "graph LR\n",
    "    A -- 1 --> B\n",
    "    A -- 2 --> C\n",
    "    A -- 3 --> E\n",
    "\n",
    "    B -- 1 --> D\n",
    "    B -- 4 --> E\n",
    "\n",
    "    E -- 2 --> H\n",
    "    E -- 1 --> D\n",
    "\n",
    "    C -- 4 --> F\n",
    "    C -- 2 --> G\n",
    "    \n",
    "    D -- 5 --> H\n",
    "``` "
   ]
  },
  {
   "cell_type": "code",
   "execution_count": 118,
   "metadata": {},
   "outputs": [],
   "source": [
    "class Node:\n",
    "    \"\"\"\n",
    "    Définit un noeud dans un graphe avec un nom et un coût.\n",
    "\n",
    "    Attributes\n",
    "    ----------\n",
    "        name (str): Nom du noeud.\n",
    "        cost (int): Coût du noeud.\n",
    "    \"\"\"\n",
    "\n",
    "    def __init__(self, name: str, cost: int) -> None:\n",
    "        self.name = name\n",
    "        self.cost = cost\n",
    "\n",
    "    # redéfinition de la méthode __eq__ pour pouvoir comparer deux noeuds\n",
    "    def __eq__(self, __value: object) -> bool:\n",
    "        if isinstance(__value, Node):\n",
    "            return self.name == __value.name\n",
    "        return False\n",
    "\n",
    "    # redéfinition de la méthode __lt__ pour pouvoir comparer deux noeuds en se basant sur leur coût\n",
    "    def __lt__(self, __value: object) -> bool:\n",
    "        if isinstance(__value, Node):\n",
    "            return self.cost < __value.cost\n",
    "        return False\n",
    "\n",
    "    # redéfinition de la méthode __gt__ pour pouvoir comparer deux noeuds en se basant sur leur coût\n",
    "    def __gt__(self, __value: object) -> bool:\n",
    "        if isinstance(__value, Node):\n",
    "            return self.cost > __value.cost\n",
    "        return False\n",
    "\n",
    "    # redéfinition de la méthode __repr__ pour pouvoir afficher un noeud\n",
    "    def __repr__(self) -> str:\n",
    "        return f\"Node(name={self.name}, cost={self.cost})\"\n",
    "\n",
    "    # redéfinition de la méthode __str__ pour pouvoir afficher un noeud\n",
    "    def __str__(self) -> str:\n",
    "        return self.__repr__()\n",
    "\n",
    "    def __hash__(self) -> int:\n",
    "        return hash(self.name)"
   ]
  },
  {
   "cell_type": "code",
   "execution_count": 119,
   "metadata": {},
   "outputs": [],
   "source": [
    "class SearchState:\n",
    "    r\"\"\"\n",
    "    Cette classe définit l'état de la recherche dans l'algorithme de recherche gloutonne.\n",
    "\n",
    "    Attributes\n",
    "    ----------\n",
    "        node (Node): Noeud courant.\n",
    "        parent (Node): Noeud parent.\n",
    "    \"\"\"\n",
    "\n",
    "    def __init__(self, node: Node, parent: Node = None) -> None:\n",
    "        self.node = node\n",
    "        self.parent = parent\n",
    "\n",
    "    def __repr__(self) -> str:\n",
    "        return f\"SearchState(node={self.node}, parent={self.parent})\"\n",
    "\n",
    "    def __str__(self) -> str:\n",
    "        return self.__repr__()"
   ]
  },
  {
   "cell_type": "code",
   "execution_count": 120,
   "metadata": {},
   "outputs": [],
   "source": [
    "Graph = dict[str, list[Node]]  # type alias pour représenter un graphe\n",
    "\n",
    "_graph: Graph = {\n",
    "    \"A\": [Node(\"B\", 2), Node(\"C\", 3), Node(\"E\", 2)],\n",
    "    \"B\": [Node(\"E\", 4), Node(\"D\", 1)],\n",
    "    \"C\": [Node(\"F\", 4), Node(\"G\", 2)],\n",
    "    \"D\": [Node(\"H\", 0)],\n",
    "    \"E\": [Node(\"D\", 1), Node(\"H\", 0)],\n",
    "    \"F\": [],\n",
    "    \"G\": [],\n",
    "    \"H\": [],\n",
    "}"
   ]
  },
  {
   "cell_type": "code",
   "execution_count": 121,
   "metadata": {},
   "outputs": [],
   "source": [
    "from typing import Callable\n",
    "\n",
    "# type alias pour la fonction heuristique\n",
    "Heuristic = Callable[[Node, Node], int]"
   ]
  },
  {
   "cell_type": "code",
   "execution_count": 122,
   "metadata": {},
   "outputs": [],
   "source": [
    "import heapq\n",
    "\n",
    "\n",
    "class GreedyBestFirstSearch:\n",
    "    def __init__(\n",
    "        self,\n",
    "        graph: Graph,\n",
    "        start: Node,\n",
    "        goal: Node,\n",
    "        heuristic: Heuristic,\n",
    "    ) -> None:\n",
    "        self.graph = graph\n",
    "        self.start = start\n",
    "        self.goal = goal\n",
    "        self.heuristic = heuristic\n",
    "\n",
    "        # open définit les noeuds à explorer\n",
    "        # cette liste est triée par coût croissant\n",
    "        # raison pour laquelle on utilise le module heapq\n",
    "        self._open: list[tuple[int, Node]] = []\n",
    "\n",
    "        # visited définit les noeuds déjà explorés\n",
    "        self._visited: set[Node] = set()\n",
    "\n",
    "    def search(self):\n",
    "        # on ajoute le noeud de départ à open\n",
    "        self._open.append((self.heuristic(self.start, self.goal), self.start))\n",
    "        states: list[SearchState] = []\n",
    "\n",
    "        # tant qu'il y a des noeuds à explorer\n",
    "        while self._open:\n",
    "            # on récupère le noeud de open avec le coût le plus faible\n",
    "            _, current_node = heapq.heappop(self._open)\n",
    "\n",
    "            if current_node == self.goal:\n",
    "                return self._reconstruct_path(states)\n",
    "\n",
    "            if current_node in self._visited:\n",
    "                continue\n",
    "\n",
    "            self._visited.add(current_node)\n",
    "\n",
    "            for neighbor in self.graph[current_node.name]:\n",
    "                if neighbor not in self._open:\n",
    "                    # on ajoute le nouveau noeud à explorer dans la liste open\n",
    "                    heapq.heappush(\n",
    "                        self._open,\n",
    "                        (self.heuristic(neighbor, self.goal), neighbor),\n",
    "                    )\n",
    "\n",
    "                    states.append(SearchState(neighbor, current_node))\n",
    "\n",
    "        return None\n",
    "\n",
    "    def _reconstruct_path(self, states: list[SearchState]):\n",
    "        # on va reconstruire le chemin par l'arrière\n",
    "        current = self.goal\n",
    "        path: list[Node] = []\n",
    "\n",
    "        for state in reversed(states):\n",
    "            if state.parent is not None:  # donc pas le noeud de départ\n",
    "                if state.node == current:\n",
    "                    path.append(current)\n",
    "                    current = state.parent\n",
    "\n",
    "        path.append(self.start)\n",
    "        path.reverse()\n",
    "\n",
    "        return path"
   ]
  },
  {
   "cell_type": "code",
   "execution_count": 123,
   "metadata": {},
   "outputs": [],
   "source": [
    "def min_heuristic(node: Node, goal: Node) -> int:\n",
    "    return min(node.cost, goal.cost)"
   ]
  },
  {
   "cell_type": "code",
   "execution_count": 124,
   "metadata": {},
   "outputs": [
    {
     "name": "stdout",
     "output_type": "stream",
     "text": [
      "[Node(name=A, cost=10), Node(name=B, cost=2), Node(name=D, cost=1), Node(name=H, cost=0)]\n"
     ]
    }
   ],
   "source": [
    "solver = GreedyBestFirstSearch(\n",
    "    graph=_graph,\n",
    "    start=Node(\"A\", 10),\n",
    "    goal=Node(\"H\", 0),\n",
    "    heuristic=min_heuristic,\n",
    ")\n",
    "\n",
    "solution = solver.search()\n",
    "print(solution)"
   ]
  },
  {
   "cell_type": "code",
   "execution_count": 125,
   "metadata": {},
   "outputs": [
    {
     "name": "stdout",
     "output_type": "stream",
     "text": [
      "Le chemin créé est: A,B,D,H\n"
     ]
    }
   ],
   "source": [
    "created_path = \",\".join([node.name for node in solution])\n",
    "print(f\"Le chemin créé est: {created_path}\")"
   ]
  },
  {
   "cell_type": "code",
   "execution_count": null,
   "metadata": {},
   "outputs": [],
   "source": []
  }
 ],
 "metadata": {
  "kernelspec": {
   "display_name": "sra",
   "language": "python",
   "name": "python3"
  },
  "language_info": {
   "codemirror_mode": {
    "name": "ipython",
    "version": 3
   },
   "file_extension": ".py",
   "mimetype": "text/x-python",
   "name": "python",
   "nbconvert_exporter": "python",
   "pygments_lexer": "ipython3",
   "version": "3.10.13"
  }
 },
 "nbformat": 4,
 "nbformat_minor": 2
}
