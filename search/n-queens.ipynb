{
 "cells": [
  {
   "cell_type": "markdown",
   "metadata": {},
   "source": [
    "# **WIP**: the model outputs a wrong solution"
   ]
  },
  {
   "cell_type": "code",
   "execution_count": 11,
   "metadata": {},
   "outputs": [],
   "source": [
    "from typing import Final\n",
    "\n",
    "BOARD_ROWS: Final[list[int]] = [1, 2, 3, 4, 5, 6, 7, 8]\n",
    "BOARD_COLS: Final[list[int]] = [1, 2, 3, 4, 5, 6, 7, 8]"
   ]
  },
  {
   "cell_type": "code",
   "execution_count": 12,
   "metadata": {},
   "outputs": [],
   "source": [
    "class ChessPiece:\n",
    "    def __init__(self, row: int, col: int) -> None:\n",
    "        self.row = row\n",
    "        self.col = col\n",
    "\n",
    "    def __repr__(self) -> str:\n",
    "        return f\"ChessPiece({self.row}, {self.col})\"\n",
    "\n",
    "    def __str__(self) -> str:\n",
    "        return self.__repr__()\n",
    "\n",
    "    def __eq__(self, other: object) -> bool:\n",
    "        \"\"\"Check if two chess pieces are equal based on position.\"\"\"\n",
    "        if not isinstance(other, ChessPiece):\n",
    "            return False\n",
    "\n",
    "        return self.row == other.row and self.col == other.col\n",
    "\n",
    "    def is_on_same_row(self, other: object) -> bool:\n",
    "        \"\"\"Check if two chess pieces are on the same row.\"\"\"\n",
    "        if not isinstance(other, ChessPiece):\n",
    "            return False\n",
    "\n",
    "        return self.row == other.row\n",
    "\n",
    "    def is_on_same_col(self, other: object) -> bool:\n",
    "        \"\"\"Check if two chess pieces are on the same column.\"\"\"\n",
    "        if not isinstance(other, ChessPiece):\n",
    "            return False\n",
    "\n",
    "        return self.col == other.col\n",
    "\n",
    "    def is_on_same_diagonal(self, other: object) -> bool:\n",
    "        \"\"\"Check if two chess pieces are on the same diagonal.\"\"\"\n",
    "        if not isinstance(other, ChessPiece):\n",
    "            return False\n",
    "\n",
    "        return abs(self.row - other.row) == abs(self.col - other.col)"
   ]
  },
  {
   "cell_type": "code",
   "execution_count": 13,
   "metadata": {},
   "outputs": [],
   "source": [
    "class Chessboard:\n",
    "    def __init__(self, queens: list[ChessPiece]) -> None:\n",
    "        self.queens = queens\n",
    "\n",
    "    def __repr__(self) -> str:\n",
    "        return f\"ChessBoard({self.queens})\"\n",
    "\n",
    "    def __str__(self) -> str:\n",
    "        return self.__repr__()\n",
    "\n",
    "    def __eq__(self, other: object) -> bool:\n",
    "        \"\"\"Check if two chess boards are equal based on queens positions.\"\"\"\n",
    "        if not isinstance(other, Chessboard):\n",
    "            return False\n",
    "\n",
    "        return self.queens == other.queens\n",
    "\n",
    "    def is_goal(self) -> bool:\n",
    "        \"\"\"Check if the current chess board is valid.\"\"\"\n",
    "        for queen in self.queens:\n",
    "            for other in self.queens:\n",
    "                if queen == other:\n",
    "                    continue\n",
    "\n",
    "                if (\n",
    "                    queen.is_on_same_row(other)\n",
    "                    or queen.is_on_same_col(other)\n",
    "                    or queen.is_on_same_diagonal(other)\n",
    "                ):\n",
    "                    return False\n",
    "\n",
    "        return True"
   ]
  },
  {
   "cell_type": "code",
   "execution_count": 14,
   "metadata": {},
   "outputs": [],
   "source": [
    "from typing import Union\n",
    "\n",
    "\n",
    "class Node:\n",
    "    def __init__(\n",
    "        self,\n",
    "        state: Chessboard,\n",
    "        parent: Union[Chessboard, None] = None,\n",
    "    ) -> None:\n",
    "        self.state = state\n",
    "        self.parent = parent\n",
    "\n",
    "    def __repr__(self) -> str:\n",
    "        return f\"SearchState(node={self.state}, parent={self.parent})\"\n",
    "\n",
    "    def __str__(self) -> str:\n",
    "        return self.__repr__()\n",
    "\n",
    "    def __eq__(self, other: object) -> bool:\n",
    "        \"\"\"Check if two search states are equal based on node.\"\"\"\n",
    "        if not isinstance(other, Node):\n",
    "            return False\n",
    "\n",
    "        return self.state == other.state\n",
    "\n",
    "    def is_goal(self):\n",
    "        \"\"\"Check if the current search state is valid.\"\"\"\n",
    "        return self.state.is_goal()"
   ]
  },
  {
   "cell_type": "code",
   "execution_count": 15,
   "metadata": {},
   "outputs": [],
   "source": [
    "class StackFrontier:\n",
    "    def __init__(self) -> None:\n",
    "        self.frontier: list[Node] = []\n",
    "\n",
    "    def __repr__(self) -> str:\n",
    "        return f\"StackFrontier(frontier={self.frontier})\"\n",
    "\n",
    "    def __str__(self) -> str:\n",
    "        return self.__repr__()\n",
    "\n",
    "    def __len__(self) -> int:\n",
    "        return len(self.frontier)\n",
    "\n",
    "    @property\n",
    "    def is_empty(self) -> bool:\n",
    "        \"\"\"Check if the frontier is empty.\"\"\"\n",
    "        return len(self.frontier) == 0\n",
    "\n",
    "    def has_state(self, state: Node) -> bool:\n",
    "        \"\"\"Check if the frontier has a state.\"\"\"\n",
    "        return any(state == frontier_state for frontier_state in self.frontier)\n",
    "\n",
    "    def add(self, state: Node) -> None:\n",
    "        \"\"\"Add a state to the frontier.\"\"\"\n",
    "        self.frontier.append(state)\n",
    "\n",
    "    def remove(self) -> Node:\n",
    "        \"\"\"Remove a state from the frontier.\"\"\"\n",
    "        if self.is_empty:\n",
    "            raise Exception(\"Empty frontier\")\n",
    "\n",
    "        state = self.frontier.pop()\n",
    "        return state\n",
    "\n",
    "    def reconstruct_path(self, state: Node) -> list[Node]:\n",
    "        \"\"\"Reconstruct the path from the root node to the current node.\"\"\"\n",
    "        path = [state]\n",
    "        while state.parent is not None:\n",
    "            path.append(state.parent)\n",
    "            state = state.parent\n",
    "\n",
    "        path.reverse()\n",
    "        return path"
   ]
  },
  {
   "cell_type": "code",
   "execution_count": 16,
   "metadata": {},
   "outputs": [],
   "source": [
    "class NQueens:\n",
    "    def __init__(self, size: int) -> None:\n",
    "        self.size = size\n",
    "        self.cols = BOARD_COLS[:size]\n",
    "        self.rows = BOARD_ROWS[:size]\n",
    "        self._frontier = StackFrontier()\n",
    "\n",
    "    def neighbors(self, current_node: Node) -> list[Node]:\n",
    "        \"\"\"Generate the neighbors of the current node.\"\"\"\n",
    "\n",
    "        neighbors: list[Node] = []\n",
    "\n",
    "        for row in self.rows:\n",
    "            for col in self.cols:\n",
    "                new_queens = current_node.state.queens.copy() + [ChessPiece(row, col)]\n",
    "\n",
    "                tmp_node = Node(\n",
    "                    state=Chessboard(new_queens),\n",
    "                    parent=current_node,\n",
    "                )\n",
    "\n",
    "                if self._frontier.has_state(tmp_node):\n",
    "                    continue\n",
    "\n",
    "                neighbors.append(tmp_node)\n",
    "\n",
    "        return neighbors\n",
    "\n",
    "    def solve(self) -> list[Node]:\n",
    "        initial_state = Node(Chessboard([]))\n",
    "        self.num_explored = 0\n",
    "        self._frontier.add(initial_state)\n",
    "        explored: set[Node] = set()\n",
    "\n",
    "        while True:\n",
    "            if self._frontier.is_empty:\n",
    "                raise Exception(\"No solution\")\n",
    "\n",
    "            current_node = self._frontier.remove()\n",
    "            self.num_explored += 1\n",
    "\n",
    "            if current_node.is_goal():\n",
    "                return self._frontier.reconstruct_path(current_node)\n",
    "\n",
    "            explored.add(current_node)\n",
    "\n",
    "            for _node in self.neighbors(current_node):\n",
    "                if _node in explored or self._frontier.has_state(_node):\n",
    "                    continue\n",
    "\n",
    "                self._frontier.add(_node)"
   ]
  },
  {
   "cell_type": "code",
   "execution_count": 17,
   "metadata": {},
   "outputs": [
    {
     "name": "stdout",
     "output_type": "stream",
     "text": [
      "Solution: [SearchState(node=ChessBoard([]), parent=None)]\n"
     ]
    }
   ],
   "source": [
    "n_queens_problem = NQueens(5)\n",
    "solution = n_queens_problem.solve()\n",
    "\n",
    "print(f\"Solution: {solution}\")"
   ]
  },
  {
   "cell_type": "code",
   "execution_count": 21,
   "metadata": {},
   "outputs": [
    {
     "data": {
      "text/plain": [
       "True"
      ]
     },
     "execution_count": 21,
     "metadata": {},
     "output_type": "execute_result"
    }
   ],
   "source": [
    "[1, \"A\"] == [1, \"A\"]"
   ]
  },
  {
   "cell_type": "code",
   "execution_count": null,
   "metadata": {},
   "outputs": [],
   "source": []
  }
 ],
 "metadata": {
  "kernelspec": {
   "display_name": "sra",
   "language": "python",
   "name": "python3"
  },
  "language_info": {
   "codemirror_mode": {
    "name": "ipython",
    "version": 3
   },
   "file_extension": ".py",
   "mimetype": "text/x-python",
   "name": "python",
   "nbconvert_exporter": "python",
   "pygments_lexer": "ipython3",
   "version": "3.10.13"
  }
 },
 "nbformat": 4,
 "nbformat_minor": 2
}
