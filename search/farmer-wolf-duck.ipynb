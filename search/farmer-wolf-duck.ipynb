{
 "cells": [
  {
   "cell_type": "markdown",
   "metadata": {},
   "source": [
    "## Defining base classes"
   ]
  },
  {
   "cell_type": "code",
   "execution_count": 11,
   "metadata": {},
   "outputs": [],
   "source": [
    "from typing import NamedTuple, Literal, Union\n",
    "from search_utils import AbstractNode\n",
    "\n",
    "Position = Literal[\"east\", \"west\"]\n",
    "\n",
    "\n",
    "class State(NamedTuple):\n",
    "    farmer: Position\n",
    "    wolf: Position\n",
    "    duck: Position\n",
    "    corn: Position\n",
    "\n",
    "    def __repr__(self) -> str:\n",
    "        return f\"State(farmer={self.farmer}, wolf={self.wolf}, duck={self.duck}, corn={self.corn})\"\n",
    "\n",
    "    def __str__(self) -> str:\n",
    "        return self.__repr__()\n",
    "\n",
    "    def __eq__(self, other: object) -> bool:\n",
    "        if not isinstance(other, State):\n",
    "            return False\n",
    "\n",
    "        return (\n",
    "            self.farmer == other.farmer\n",
    "            and self.wolf == other.wolf\n",
    "            and self.duck == other.duck\n",
    "            and self.corn == other.corn\n",
    "        )\n",
    "\n",
    "    def copy_with(self, **kwargs) -> \"State\":\n",
    "        r\"\"\"A copy constructor that returns a new state with the given attributes updated.\"\"\"\n",
    "        return State(**{**self._asdict(), **kwargs})\n",
    "\n",
    "    @property\n",
    "    def is_valid(self) -> bool:\n",
    "        r\"\"\"The state is valid if the duck is not left alone with the corn while the farmer is not present,\n",
    "        and the wolf is not left alone with the duck while the farmer is not present.\n",
    "        \"\"\"\n",
    "        return not (\n",
    "            (self.duck == self.corn and self.duck != self.farmer)\n",
    "            or (self.wolf == self.duck and self.wolf != self.farmer)\n",
    "        )\n",
    "\n",
    "\n",
    "class Node(AbstractNode[State]):\n",
    "    def __init__(self, action: str, state: State, parent: Union[State, None] = None):\n",
    "        super().__init__(action, state, parent)\n",
    "\n",
    "    def __eq__(self, other: object) -> bool:\n",
    "        if not isinstance(other, Node):\n",
    "            return False\n",
    "\n",
    "        return self.state == other.state"
   ]
  },
  {
   "cell_type": "markdown",
   "metadata": {},
   "source": [
    "## Candidate actions generator"
   ]
  },
  {
   "cell_type": "code",
   "execution_count": 12,
   "metadata": {},
   "outputs": [],
   "source": [
    "CandidateAction = tuple[str, State]\n",
    "\n",
    "\n",
    "def create_candidates(previous_state: State) -> list[CandidateAction]:\n",
    "    candidates: list[CandidateAction] = [\n",
    "        # Farmer with duck\n",
    "        (\n",
    "            \"Farmer takes duck to west\",\n",
    "            previous_state.copy_with(farmer=\"west\", duck=\"west\"),\n",
    "        ),\n",
    "        (\n",
    "            \"Farmer takes duck to east\",\n",
    "            previous_state.copy_with(farmer=\"east\", duck=\"east\"),\n",
    "        ),\n",
    "        # Farmer with wolf\n",
    "        (\n",
    "            \"Farmer takes wolf to west\",\n",
    "            previous_state.copy_with(farmer=\"west\", wolf=\"west\"),\n",
    "        ),\n",
    "        (\n",
    "            \"Farmer takes wolf to east\",\n",
    "            previous_state.copy_with(farmer=\"east\", wolf=\"east\"),\n",
    "        ),\n",
    "        # Farmer with corn\n",
    "        (\n",
    "            \"Farmer takes corn to west\",\n",
    "            previous_state.copy_with(farmer=\"west\", corn=\"west\"),\n",
    "        ),\n",
    "        (\n",
    "            \"Farmer takes corn to east\",\n",
    "            previous_state.copy_with(farmer=\"east\", corn=\"east\"),\n",
    "        ),\n",
    "        # Farmer alone\n",
    "        (\"Farmer takes nothing to west\", previous_state.copy_with(farmer=\"west\")),\n",
    "        (\"Farmer takes nothing to east\", previous_state.copy_with(farmer=\"east\")),\n",
    "    ]\n",
    "\n",
    "    return candidates"
   ]
  },
  {
   "cell_type": "code",
   "execution_count": 13,
   "metadata": {},
   "outputs": [],
   "source": [
    "from search_utils import StackFrontier, QueueFrontier, reconstruct_path\n",
    "\n",
    "\n",
    "class FarmerProblem:\n",
    "    def __init__(self, initial_state: State, goal: State) -> None:\n",
    "        self.initial_state = initial_state\n",
    "        self.goal = goal\n",
    "        self.solution: list[Node] = []\n",
    "\n",
    "    def neighbors(self, node: Node):\n",
    "        \"\"\"Generates the neighbors of a given node's state\"\"\"\n",
    "        candidates = create_candidates(node.state)\n",
    "        neighbors: list[Node] = []\n",
    "\n",
    "        for action, state in candidates:\n",
    "            if state.is_valid:\n",
    "                neighbors.append(Node(action=action, state=state, parent=node))\n",
    "\n",
    "        return neighbors\n",
    "\n",
    "    def solve(self, frontier_type: Literal[\"stack\", \"queue\"] = \"stack\"):\n",
    "        num_explored = 0\n",
    "        explored = set()\n",
    "\n",
    "        frontier = (\n",
    "            StackFrontier[State]()\n",
    "            if frontier_type == \"stack\"\n",
    "            else QueueFrontier[State]()\n",
    "        )\n",
    "\n",
    "        frontier.add(Node(\"Initial state\", self.initial_state))\n",
    "\n",
    "        while True:\n",
    "            if frontier.is_empty:\n",
    "                raise Exception(\"No solution, frontier is empty\")\n",
    "\n",
    "            current_node = frontier.remove()\n",
    "            num_explored += 1\n",
    "            print(f\"Iteration n°{num_explored} - Action: {current_node.action}\\n\")\n",
    "\n",
    "            if current_node.state == self.goal:\n",
    "                return reconstruct_path(current_node), num_explored\n",
    "\n",
    "            explored.add(current_node.state)\n",
    "            for neighbor in self.neighbors(current_node):\n",
    "                if neighbor.state not in explored and neighbor.state not in frontier:\n",
    "                    frontier.add(neighbor)"
   ]
  },
  {
   "cell_type": "code",
   "execution_count": 14,
   "metadata": {},
   "outputs": [],
   "source": [
    "# the initial bank from which the farmer starts\n",
    "bank: Position = \"west\"\n",
    "goal_bank: Position = \"east\"\n",
    "initial_state = State(farmer=bank, wolf=bank, duck=bank, corn=bank)\n",
    "goal_state = State(farmer=goal_bank, wolf=goal_bank, duck=goal_bank, corn=goal_bank)"
   ]
  },
  {
   "cell_type": "code",
   "execution_count": 15,
   "metadata": {},
   "outputs": [
    {
     "name": "stdout",
     "output_type": "stream",
     "text": [
      "Iteration n°1 - Action: Initial state\n",
      "\n",
      "Iteration n°2 - Action: Farmer takes duck to east\n",
      "\n",
      "Iteration n°3 - Action: Farmer takes nothing to west\n",
      "\n",
      "Iteration n°4 - Action: Farmer takes corn to east\n",
      "\n",
      "Iteration n°5 - Action: Farmer takes wolf to east\n",
      "\n"
     ]
    }
   ],
   "source": [
    "problem = FarmerProblem(initial_state, goal_state)\n",
    "solution_path, num_explored = problem.solve(frontier_type=\"stack\")"
   ]
  },
  {
   "cell_type": "code",
   "execution_count": 16,
   "metadata": {},
   "outputs": [
    {
     "data": {
      "text/plain": [
       "Node(action=fds, state=State(farmer=west, wolf=west, duck=west, corn=west), parent=State(farmer=west, wolf=west, duck=west, corn=west))"
      ]
     },
     "execution_count": 16,
     "metadata": {},
     "output_type": "execute_result"
    }
   ],
   "source": [
    "Node(\n",
    "    action=\"fds\",\n",
    "    state=State(farmer=\"west\", wolf=\"west\", duck=\"west\", corn=\"west\"),\n",
    "    parent=State(farmer=\"west\", wolf=\"west\", duck=\"west\", corn=\"west\"),\n",
    ")"
   ]
  },
  {
   "cell_type": "code",
   "execution_count": 17,
   "metadata": {},
   "outputs": [
    {
     "data": {
      "text/plain": [
       "['Initial state',\n",
       " 'Farmer takes duck to east',\n",
       " 'Farmer takes nothing to west',\n",
       " 'Farmer takes corn to east',\n",
       " 'Farmer takes wolf to east']"
      ]
     },
     "execution_count": 17,
     "metadata": {},
     "output_type": "execute_result"
    }
   ],
   "source": [
    "[node.action for node in solution_path]"
   ]
  },
  {
   "cell_type": "code",
   "execution_count": null,
   "metadata": {},
   "outputs": [],
   "source": []
  }
 ],
 "metadata": {
  "kernelspec": {
   "display_name": "sra",
   "language": "python",
   "name": "python3"
  },
  "language_info": {
   "codemirror_mode": {
    "name": "ipython",
    "version": 3
   },
   "file_extension": ".py",
   "mimetype": "text/x-python",
   "name": "python",
   "nbconvert_exporter": "python",
   "pygments_lexer": "ipython3",
   "version": "3.10.13"
  }
 },
 "nbformat": 4,
 "nbformat_minor": 2
}
